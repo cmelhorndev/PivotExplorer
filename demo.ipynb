{
 "cells": [
  {
   "cell_type": "code",
   "execution_count": null,
   "id": "00c7b446-3b1c-404f-afad-909e7c3f98c8",
   "metadata": {},
   "outputs": [],
   "source": [
    "from PivotExplorer import PivotExplorer"
   ]
  },
  {
   "cell_type": "code",
   "execution_count": null,
   "id": "213da777-d4f7-4dbb-9a75-64163cc136e4",
   "metadata": {},
   "outputs": [],
   "source": [
    "from sklearn.datasets import load_wine\n",
    "\n",
    "data = load_wine(as_frame=True)\n",
    "wine_df = data.frame"
   ]
  },
  {
   "cell_type": "code",
   "execution_count": null,
   "id": "9731f179-7fb2-4197-97ec-9dae5ac07ae4",
   "metadata": {},
   "outputs": [],
   "source": [
    "pvtex = PivotExplorer(wine_df)\n",
    "pvtex"
   ]
  }
 ],
 "metadata": {
  "kernelspec": {
   "display_name": "Python 3 (ipykernel)",
   "language": "python",
   "name": "python3"
  },
  "language_info": {
   "codemirror_mode": {
    "name": "ipython",
    "version": 3
   },
   "file_extension": ".py",
   "mimetype": "text/x-python",
   "name": "python",
   "nbconvert_exporter": "python",
   "pygments_lexer": "ipython3",
   "version": "3.11.2"
  }
 },
 "nbformat": 4,
 "nbformat_minor": 5
}
